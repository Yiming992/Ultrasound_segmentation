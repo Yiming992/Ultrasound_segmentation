{
 "cells": [
  {
   "cell_type": "code",
   "execution_count": 1,
   "metadata": {
    "collapsed": true
   },
   "outputs": [],
   "source": [
    "import numpy as np\n",
    "import matplotlib.pyplot as plt\n",
    "from PIL import Image\n",
    "import glob\n",
    "import os\n",
    "import tensorflow as tf"
   ]
  },
  {
   "cell_type": "markdown",
   "metadata": {},
   "source": [
    "### Preprocessing the image data"
   ]
  },
  {
   "cell_type": "code",
   "execution_count": 85,
   "metadata": {
    "collapsed": true
   },
   "outputs": [],
   "source": [
    "train_direc='train1'\n",
    "train_mask_direc='train_mask1'\n",
    "test_direc='test1'\n",
    "test_mask_direc='test_mask1'\n",
    "### make several directories to store corresponding data\n",
    "direcs=[train_direc,train_mask_direc,test_direc,test_mask_direc]\n",
    "for i in direcs:\n",
    "    os.mkdir(i)"
   ]
  },
  {
   "cell_type": "code",
   "execution_count": 86,
   "metadata": {
    "collapsed": true
   },
   "outputs": [],
   "source": [
    "file_names=glob.glob('train/*.tif')### get image and mask data"
   ]
  },
  {
   "cell_type": "code",
   "execution_count": 87,
   "metadata": {
    "collapsed": true
   },
   "outputs": [],
   "source": [
    "mask=[x for x in file_names if 'mask.tif' in x.split('_')]\n",
    "train=[x for x in file_names if 'mask.tif' not in x.split('_')]"
   ]
  },
  {
   "cell_type": "code",
   "execution_count": 2,
   "metadata": {
    "collapsed": true
   },
   "outputs": [],
   "source": [
    "def sort_train_files(s):\n",
    "    base=os.path.basename(s)\n",
    "    num=int(base[:-5].replace('_',''))\n",
    "    return num\n",
    "\n",
    "def sort_mask_files(s):\n",
    "    base=os.path.basename(s)\n",
    "    num=int(base[:-9].replace('_',''))\n",
    "    return num"
   ]
  },
  {
   "cell_type": "code",
   "execution_count": 89,
   "metadata": {
    "collapsed": true
   },
   "outputs": [],
   "source": [
    "mask.sort(key=sort_mask_files)\n",
    "train.sort(key=sort_train_files)"
   ]
  },
  {
   "cell_type": "code",
   "execution_count": 90,
   "metadata": {
    "collapsed": true
   },
   "outputs": [],
   "source": [
    "test=train[-500:]\n",
    "test_mask=mask[-500:]### Create a test set"
   ]
  },
  {
   "cell_type": "code",
   "execution_count": 91,
   "metadata": {
    "collapsed": true
   },
   "outputs": [],
   "source": [
    "### Redistribute the training images and masks to seperate files\n",
    "\n",
    "for i,j in zip(train[:-500],mask[:-500]):\n",
    "    os.rename(i,train_direc+'/'+os.path.basename(i))\n",
    "    os.rename(j,train_mask_direc+'/'+os.path.basename(j))\n",
    "for i,j in zip(test,test_mask):\n",
    "    os.rename(i,test_direc+'/'+os.path.basename(i))\n",
    "    os.rename(j,test_mask_direc+'/'+os.path.basename(j))   "
   ]
  },
  {
   "cell_type": "code",
   "execution_count": 6,
   "metadata": {
    "collapsed": true
   },
   "outputs": [],
   "source": [
    "TFRecords_filename='Train.tfrecords'### File name for the future tfrecord file\n",
    "TFRecords_filename2='Train.tfrecords2'"
   ]
  },
  {
   "cell_type": "code",
   "execution_count": 3,
   "metadata": {
    "collapsed": true
   },
   "outputs": [],
   "source": [
    "train_images=glob.glob('train1/*.tif')\n",
    "train_images.sort(key=sort_train_files)\n",
    "train_mask=glob.glob('train_mask1/*.tif')\n",
    "train_mask.sort(key=sort_mask_files)"
   ]
  },
  {
   "cell_type": "code",
   "execution_count": 4,
   "metadata": {
    "collapsed": true
   },
   "outputs": [],
   "source": [
    "test_images=glob.glob('test1/*.tif')\n",
    "test_mask=glob.glob('test_mask1/*.tif')"
   ]
  },
  {
   "cell_type": "code",
   "execution_count": 60,
   "metadata": {},
   "outputs": [
    {
     "name": "stdout",
     "output_type": "stream",
     "text": [
      "Train data: 0/5135\n",
      "Train data: 500/5135\n",
      "Train data: 1000/5135\n",
      "Train data: 1500/5135\n",
      "Train data: 2000/5135\n",
      "Train data: 2500/5135\n",
      "Train data: 3000/5135\n",
      "Train data: 3500/5135\n",
      "Train data: 4000/5135\n",
      "Train data: 4500/5135\n",
      "Train data: 5000/5135\n"
     ]
    }
   ],
   "source": [
    "def load_image(addr):\n",
    "    '''\n",
    "    Load and resize the images\n",
    "    '''\n",
    "    img=Image.open(addr)\n",
    "    img=img.resize((128,128),resample=Image.BICUBIC)\n",
    "    img=np.asarray(img)\n",
    "    return img\n",
    "\n",
    "def _bytes_feature(Input):\n",
    "    return tf.train.Feature(bytes_list=tf.train.BytesList(value=[Input]))\n",
    "\n",
    "\n",
    "####################### Write resized data into a TFRecord file\n",
    "writer=tf.python_io.TFRecordWriter(TFRecords_filename2)\n",
    "num_records=len(train_images)\n",
    "for i in range(num_records):\n",
    "\n",
    "    if not i%500:\n",
    "        print('Train data: {}/{}'.format(i,num_records))\n",
    "    img=load_image(train_images[i])\n",
    "    label=load_image(train_mask[i])\n",
    "\n",
    "    feature={'images': _bytes_feature(img.tostring()),\n",
    "    'masks':_bytes_feature(label.tostring())}\n",
    "\n",
    "    example=tf.train.Example(features=tf.train.Features(feature=feature))\n",
    "\n",
    "    writer.write(example.SerializeToString())\n",
    "writer.close()"
   ]
  },
  {
   "cell_type": "code",
   "execution_count": 44,
   "metadata": {
    "collapsed": true
   },
   "outputs": [],
   "source": [
    "def read_and_decode(filename_queue):\n",
    "    '''\n",
    "    Function to read and decode images from a tfrecord file\n",
    "    '''\n",
    "\n",
    "    reader=tf.TFRecordReader()\n",
    "\n",
    "    _,serialized_example=reader.read(filename_queue)\n",
    "\n",
    "\n",
    "    features=tf.parse_single_example(serialized_example,\n",
    "                                    features={'images':tf.FixedLenFeature([],tf.string),'masks':tf.FixedLenFeature([],tf.string)})\n",
    "    image=tf.decode_raw(features['images'],tf.uint8)\n",
    "    mask=tf.decode_raw(features['masks'],tf.uint8)\n",
    "\n",
    "#     image=tf.reshape(image,[420,580])\n",
    "#     mask=tf.reshape(mask,[420,580])\n",
    "    \n",
    "    image=tf.reshape(image,[128,128])\n",
    "    mask=tf.reshape(mask,[128,128])\n",
    "\n",
    "    images,masks=tf.train.shuffle_batch([image,mask],batch_size=64,capacity=128,num_threads=2,min_after_dequeue=10)\n",
    "\n",
    "    return images,masks"
   ]
  },
  {
   "cell_type": "code",
   "execution_count": 9,
   "metadata": {},
   "outputs": [
    {
     "data": {
      "image/png": "[encoded data removed]",
      "text/plain": [
       "<matplotlib.figure.Figure at 0x22777395c88>"
      ]
     },
     "metadata": {},
     "output_type": "display_data"
    },
    {
     "data": {
      "image/png": "[encoded data removed]",
      "text/plain": [
       "<matplotlib.figure.Figure at 0x2276ae56cc0>"
      ]
     },
     "metadata": {},
     "output_type": "display_data"
    },
    {
     "data": {
      "image/png": "[encoded data removed]",
      "text/plain": [
       "<matplotlib.figure.Figure at 0x2276b25cda0>"
      ]
     },
     "metadata": {},
     "output_type": "display_data"
    },
    {
     "data": {
      "image/png": "[encoded data removed]",
      "text/plain": [
       "<matplotlib.figure.Figure at 0x2276b32f518>"
      ]
     },
     "metadata": {},
     "output_type": "display_data"
    }
   ],
   "source": [
    "##### Check the integrity of images within TFrecrod file\n",
    "filename_queue=tf.train.string_input_producer([TFRecords_filename],num_epochs=1)\n",
    "\n",
    "image,mask=read_and_decode(filename_queue)\n",
    "init_op=tf.group(tf.global_variables_initializer(),tf.local_variables_initializer())\n",
    "\n",
    "with tf.Session() as sess:\n",
    "    sess.run(init_op)\n",
    "    coord=tf.train.Coordinator()\n",
    "    threads=tf.train.start_queue_runners(coord=coord)\n",
    "\n",
    "    for i in range(2):\n",
    "        img,label=sess.run([image,mask])\n",
    "        for j in range(2):\n",
    "            plt.subplot(2,2,j*2+1)\n",
    "            plt.imshow(img[j,:,:],cmap='gray')\n",
    "            plt.subplot(2,2,j*2+2)\n",
    "            plt.imshow(label[j,:,:],cmap='gray')\n",
    "            plt.show()\n",
    "    coord.request_stop()\n",
    "    coord.join(threads)"
   ]
  },
  {
   "cell_type": "markdown",
   "metadata": {},
   "source": [
    "### Model Building"
   ]
  },
  {
   "cell_type": "code",
   "execution_count": 16,
   "metadata": {
    "collapsed": true
   },
   "outputs": [],
   "source": [
    "def input_scaler(x):\n",
    "    '''\n",
    "    Function to scale pixel value to between 0 to 1\n",
    "    '''\n",
    "    value=x/255.0\n",
    "\n",
    "    return value.astype(np.int32)"
   ]
  },
  {
   "cell_type": "code",
   "execution_count": 11,
   "metadata": {
    "collapsed": true
   },
   "outputs": [],
   "source": [
    "\n",
    "### Functions to create various components of the network\n",
    "\n",
    "initializer=tf.contrib.layers.variance_scaling_initializer()\n",
    "\n",
    "def neural_net_input():\n",
    "    x=tf.placeholder(tf.float32,[None,None,None])\n",
    "    return x\n",
    "\n",
    "def conv_2d(x,output_nums,conv_size,stride,activation='relu'):\n",
    "    if activation=='relu':\n",
    "        output=tf.layers.conv2d(x,output_nums,conv_size,strides=stride,padding='same',kernel_initializer=initializer)\n",
    "        output=tf.nn.relu(output)\n",
    "    elif activation=='sigmoid':\n",
    "        output=tf.layers.conv2d(x,output_nums,conv_size,strides=stride,padding='same')\n",
    "        output=tf.nn.sigmoid(output)\n",
    "    else:\n",
    "        output=tf.layers.conv2d(x,output_nums,conv_size,strides=stride,padding='same')\n",
    "    return output\n",
    "\n",
    "\n",
    "def max_pool2d(x,k_size,stride):\n",
    "    output=tf.layers.max_pooling2d(x,k_size,strides=stride,padding='same')\n",
    "    return output\n",
    "\n",
    "def conv_trans(x,output_nums,conv_size,stride):\n",
    "    output=tf.layers.conv2d_transpose(x,output_nums,conv_size,strides=stride,padding='same')\n",
    "    \n",
    "    return output\n"
   ]
  },
  {
   "cell_type": "code",
   "execution_count": 95,
   "metadata": {},
   "outputs": [],
   "source": [
    "\n",
    "### Build the computational graph\n",
    "\n",
    "tf.reset_default_graph()\n",
    "import tensorlayer as tl\n",
    "log_file='./logs/train3'\n",
    "Graph=tf.Graph()\n",
    "\n",
    "with Graph.as_default():\n",
    "    \n",
    "    Input=neural_net_input()\n",
    "    x=tf.expand_dims(Input,3)\n",
    "    mask=tf.placeholder(tf.int32,[None,None,None])\n",
    "    with tf.name_scope('conv_3x3_0'):\n",
    "        conv0=conv_2d(x,16,[3,3],1)\n",
    "        conv0_1=conv_2d(conv0,16,[3,3],1)\n",
    "    with tf.name_scope('maxpool_0'):\n",
    "        pool0=max_pool2d(conv0_1,[2,2],2)\n",
    "    with tf.name_scope('conv_3x3_1'):\n",
    "        conv1=conv_2d(pool0,32,[3,3],1)\n",
    "        conv2=conv_2d(conv1,32,[3,3],1)\n",
    "    with tf.name_scope('maxpool_1'):\n",
    "        pool1=max_pool2d(conv2,[2,2],2)\n",
    "    with tf.name_scope('conv_3x3_2'):\n",
    "        conv3=conv_2d(pool1,64,[3,3],1)\n",
    "        conv4=conv_2d(conv3,64,[3,3],1)\n",
    "    with tf.name_scope('maxpool_2'):\n",
    "        pool2=max_pool2d(conv4,[2,2],2)\n",
    "    with tf.name_scope('conv_3x3_3'):\n",
    "        conv5=conv_2d(pool2,128,[3,3],1)\n",
    "        conv6=conv_2d(conv5,128,[3,3],1)\n",
    "    with tf.name_scope('upconv_1'):\n",
    "        upconv1=conv_trans(conv6,64,[3,3],2)\n",
    "    with tf.name_scope('concat_1'):\n",
    "        concat_1=tf.concat([conv4,upconv1],3)\n",
    "    with tf.name_scope('conv_3x3_4'):\n",
    "        conv7=conv_2d(concat_1,64,[3,3],1)\n",
    "        conv8=conv_2d(conv7,64,[3,3],1)\n",
    "    with tf.name_scope('upconv_2'):\n",
    "        upconv2=conv_trans(conv8,32,[3,3],2)\n",
    "    with tf.name_scope('concat_2'):\n",
    "        concat_2=tf.concat([conv2,upconv2],3)\n",
    "    with tf.name_scope('conv_3x3_5'):\n",
    "        conv9=conv_2d(concat_2,32,[3,3],1)\n",
    "        conv10=conv_2d(conv9,32,[3,3],1)\n",
    "    with tf.name_scope('upconv_3'):\n",
    "        upconv3=conv_trans(conv10,16,[3,3],2)\n",
    "    with tf.name_scope('concat_3'):\n",
    "        concat_3=tf.concat([conv0_1,upconv3],3)\n",
    "    with tf.name_scope('conv_3x3_6'):\n",
    "        conv11=conv_2d(concat_3,16,[3,3],1)\n",
    "        conv12=conv_2d(conv11,16,[3,3],1)\n",
    "    with tf.name_scope('final_layer'):\n",
    "        Final=conv_2d(conv12,1,[1,1],1,activation='sigmoid')\n",
    "    \n",
    "    \n",
    "    \n",
    "    with tf.name_scope('loss'):\n",
    "        Mask=tf.expand_dims(mask,3)\n",
    "        ### Compute 1-(Dice Coeficient) as network's loss function\n",
    "        dice_loss=1-tl.cost.dice_coe(Final,tf.cast(Mask,tf.float32),axis=[0,1,2,3])\n",
    "#         entropy=tf.nn.sparse_softmax_cross_entropy_with_logits(labels=mask,logits=Final)\n",
    "#         loss=tf.reduce_mean(entropy)\n",
    "        loss_summ=tf.summary.scalar('cost',dice_loss)\n",
    "        \n",
    "    optimizer=tf.train.AdamOptimizer(learning_rate=0.0001,beta1=0.9)\n",
    "    train_op=optimizer.minimize(dice_loss)\n",
    "    \n",
    "    filename_queue=tf.train.string_input_producer([TFRecords_filename2],num_epochs=500)\n",
    "    images,masks=read_and_decode(filename_queue)\n",
    "    file_writer=tf.summary.FileWriter(log_file,Graph)\n",
    "    init_op=tf.group(tf.global_variables_initializer(),tf.local_variables_initializer())"
   ]
  },
  {
   "cell_type": "markdown",
   "metadata": {},
   "source": [
    "Entirety of the above computational graph can be seen below\n",
    "<img src=\"graph-run=1.png\">\n"
   ]
  },
  {
   "cell_type": "markdown",
   "metadata": {},
   "source": [
    "The network has 15 3x3 convolutional layers, 3 Max-pooling layers, 3 transposed-convolution layers, and 3 tensor concatenation layers.\n",
    "\n",
    "Trainable model parameters in this case come from convolution and deconvolution layers. Thus there are about 534816 trainable parameters in the model\n",
    "\n",
    "In essence, the model structure is largely inspired by the U-net. However, there still exists some discrepancies between the above proposed model and U-net. Firstly, due to the constraint of computational power, above model is not as deep as U-net. Secondly, above model did use zero padding to maintain a consistent spatial shape for the feature maps during convolution operation. Thirdly, above model used only 3 concatenation layers to merge feature maps instead of 4 used in the U-net."
   ]
  },
  {
   "cell_type": "markdown",
   "metadata": {},
   "source": [
    "### Train and save the model"
   ]
  },
  {
   "cell_type": "code",
   "execution_count": 96,
   "metadata": {},
   "outputs": [
    {
     "name": "stdout",
     "output_type": "stream",
     "text": [
      "Epoch:1/200...... Loss: 0.9045027494430542\n",
      "Epoch:2/200...... Loss: 0.829500138759613\n",
      "Epoch:3/200...... Loss: 0.7454453706741333\n",
      "Epoch:4/200...... Loss: 0.7394236326217651\n",
      "Epoch:5/200...... Loss: 0.74959796667099\n",
      "Epoch:6/200...... Loss: 0.7588839530944824\n",
      "Epoch:7/200...... Loss: 0.7082983255386353\n",
      "Epoch:8/200...... Loss: 0.6043993234634399\n",
      "Epoch:9/200...... Loss: 0.5721170902252197\n",
      "Epoch:10/200...... Loss: 0.5533362030982971\n",
      "Epoch:11/200...... Loss: 0.622979998588562\n",
      "Epoch:12/200...... Loss: 0.6647653579711914\n",
      "Epoch:13/200...... Loss: 0.6957211494445801\n",
      "Epoch:14/200...... Loss: 0.6243546009063721\n",
      "Epoch:15/200...... Loss: 0.6170821785926819\n",
      "Epoch:16/200...... Loss: 0.6274857521057129\n",
      "Epoch:17/200...... Loss: 0.5656026005744934\n",
      "Epoch:18/200...... Loss: 0.5971155166625977\n",
      "Epoch:19/200...... Loss: 0.5033293962478638\n",
      "Epoch:20/200...... Loss: 0.4257039427757263\n",
      "Epoch:21/200...... Loss: 0.45144450664520264\n",
      "Epoch:22/200...... Loss: 0.47214412689208984\n",
      "Epoch:23/200...... Loss: 0.5052870512008667\n",
      "Epoch:24/200...... Loss: 0.6434772610664368\n",
      "Epoch:25/200...... Loss: 0.6083486080169678\n",
      "Epoch:26/200...... Loss: 0.7486239671707153\n",
      "Epoch:27/200...... Loss: 0.9509522914886475\n",
      "Epoch:28/200...... Loss: 0.957801103591919\n",
      "Epoch:29/200...... Loss: 0.8935459852218628\n",
      "Epoch:30/200...... Loss: 0.8468559384346008\n",
      "Epoch:31/200...... Loss: 0.7392441034317017\n",
      "Epoch:32/200...... Loss: 0.5283166766166687\n",
      "Epoch:33/200...... Loss: 0.33899039030075073\n",
      "Epoch:34/200...... Loss: 0.5813020467758179\n",
      "Epoch:35/200...... Loss: 0.492855966091156\n",
      "Epoch:36/200...... Loss: 0.5306505560874939\n",
      "Epoch:37/200...... Loss: 0.46771329641342163\n",
      "Epoch:38/200...... Loss: 0.343730092048645\n",
      "Epoch:39/200...... Loss: 0.3826102614402771\n",
      "Epoch:40/200...... Loss: 0.23188060522079468\n",
      "Epoch:41/200...... Loss: 0.21400249004364014\n",
      "Epoch:42/200...... Loss: 0.20739030838012695\n",
      "Epoch:43/200...... Loss: 0.22938311100006104\n",
      "Epoch:44/200...... Loss: 0.2034507393836975\n",
      "Epoch:45/200...... Loss: 0.21832668781280518\n",
      "Epoch:46/200...... Loss: 0.2037990689277649\n",
      "Epoch:47/200...... Loss: 0.21124666929244995\n",
      "Epoch:48/200...... Loss: 0.15754860639572144\n",
      "Epoch:49/200...... Loss: 0.15505099296569824\n",
      "Epoch:50/200...... Loss: 0.154019296169281\n",
      "Epoch:51/200...... Loss: 0.22388148307800293\n",
      "Epoch:52/200...... Loss: 0.2459859848022461\n",
      "Epoch:53/200...... Loss: 0.21461832523345947\n",
      "Epoch:54/200...... Loss: 0.3233190178871155\n",
      "Epoch:55/200...... Loss: 0.24646806716918945\n",
      "Epoch:56/200...... Loss: 0.2373707890510559\n",
      "Epoch:57/200...... Loss: 0.20504039525985718\n",
      "Epoch:58/200...... Loss: 0.17371177673339844\n",
      "Epoch:59/200...... Loss: 0.17834258079528809\n",
      "Epoch:60/200...... Loss: 0.19023138284683228\n",
      "Epoch:61/200...... Loss: 0.18671399354934692\n",
      "Epoch:62/200...... Loss: 0.1878623366355896\n",
      "Epoch:63/200...... Loss: 0.18867045640945435\n",
      "Epoch:64/200...... Loss: 0.1978968381881714\n",
      "Epoch:65/200...... Loss: 0.2407057285308838\n",
      "Epoch:66/200...... Loss: 0.21917110681533813\n",
      "Epoch:67/200...... Loss: 0.24734032154083252\n",
      "Epoch:68/200...... Loss: 0.26410144567489624\n",
      "Epoch:69/200...... Loss: 0.20108789205551147\n",
      "Epoch:70/200...... Loss: 0.19155609607696533\n",
      "Epoch:71/200...... Loss: 0.15370839834213257\n",
      "Epoch:72/200...... Loss: 0.18829023838043213\n",
      "Epoch:73/200...... Loss: 0.17926669120788574\n",
      "Epoch:74/200...... Loss: 0.15031039714813232\n",
      "Epoch:75/200...... Loss: 0.3036508560180664\n",
      "Epoch:76/200...... Loss: 0.9996609091758728\n",
      "Epoch:77/200...... Loss: 0.9999008774757385\n",
      "Epoch:78/200...... Loss: 0.16356319189071655\n",
      "Epoch:79/200...... Loss: 0.10579979419708252\n",
      "Epoch:80/200...... Loss: 0.11690431833267212\n",
      "Epoch:81/200...... Loss: 0.09269601106643677\n",
      "Epoch:82/200...... Loss: 0.09320533275604248\n",
      "Epoch:83/200...... Loss: 0.15304994583129883\n",
      "Epoch:84/200...... Loss: 0.26024341583251953\n",
      "Epoch:85/200...... Loss: 0.2660027742385864\n",
      "Epoch:86/200...... Loss: 0.21276867389678955\n",
      "Epoch:87/200...... Loss: 0.16045618057250977\n",
      "Epoch:88/200...... Loss: 0.11280018091201782\n",
      "Epoch:89/200...... Loss: 0.10666012763977051\n",
      "Epoch:90/200...... Loss: 0.11355715990066528\n",
      "Epoch:91/200...... Loss: 0.10234200954437256\n",
      "Epoch:92/200...... Loss: 0.10946309566497803\n",
      "Epoch:93/200...... Loss: 0.10917788743972778\n",
      "Epoch:94/200...... Loss: 0.1141812801361084\n",
      "Epoch:95/200...... Loss: 0.09834015369415283\n",
      "Epoch:96/200...... Loss: 0.09215402603149414\n",
      "Epoch:97/200...... Loss: 0.1267508864402771\n",
      "Epoch:98/200...... Loss: 0.1509649157524109\n",
      "Epoch:99/200...... Loss: 0.15926110744476318\n",
      "Epoch:100/200...... Loss: 0.16888803243637085\n",
      "Epoch:101/200...... Loss: 0.1550201177597046\n",
      "Epoch:102/200...... Loss: 0.1435413956642151\n",
      "Epoch:103/200...... Loss: 0.13323688507080078\n",
      "Epoch:104/200...... Loss: 0.1241685152053833\n",
      "Epoch:105/200...... Loss: 0.11645931005477905\n",
      "Epoch:106/200...... Loss: 0.10380750894546509\n",
      "Epoch:107/200...... Loss: 0.10066449642181396\n",
      "Epoch:108/200...... Loss: 0.10227090120315552\n",
      "Epoch:109/200...... Loss: 0.11926329135894775\n",
      "Epoch:110/200...... Loss: 0.10588228702545166\n",
      "Epoch:111/200...... Loss: 0.11316215991973877\n",
      "Epoch:112/200...... Loss: 0.12128835916519165\n",
      "Epoch:113/200...... Loss: 0.17287659645080566\n",
      "Epoch:114/200...... Loss: 0.15451103448867798\n",
      "Epoch:115/200...... Loss: 0.11853182315826416\n",
      "Epoch:116/200...... Loss: 0.13668495416641235\n",
      "Epoch:117/200...... Loss: 0.11575216054916382\n",
      "Epoch:118/200...... Loss: 0.09840291738510132\n",
      "Epoch:119/200...... Loss: 0.09128463268280029\n",
      "Epoch:120/200...... Loss: 0.09377670288085938\n",
      "Epoch:121/200...... Loss: 0.09616512060165405\n",
      "Epoch:122/200...... Loss: 0.11260342597961426\n",
      "Epoch:123/200...... Loss: 0.135534405708313\n",
      "Epoch:124/200...... Loss: 0.1625846028327942\n",
      "Epoch:125/200...... Loss: 0.17712897062301636\n",
      "Epoch:126/200...... Loss: 0.21592611074447632\n",
      "Epoch:127/200...... Loss: 0.18561244010925293\n",
      "Epoch:128/200...... Loss: 0.16356050968170166\n",
      "Epoch:129/200...... Loss: 0.15222126245498657\n",
      "Epoch:130/200...... Loss: 0.1268633008003235\n",
      "Epoch:131/200...... Loss: 0.16117173433303833\n",
      "Epoch:132/200...... Loss: 0.19365280866622925\n",
      "Epoch:133/200...... Loss: 0.22613632678985596\n",
      "Epoch:134/200...... Loss: 0.19582635164260864\n",
      "Epoch:135/200...... Loss: 0.17302054166793823\n",
      "Epoch:136/200...... Loss: 0.1620039939880371\n",
      "Epoch:137/200...... Loss: 0.14737039804458618\n",
      "Epoch:138/200...... Loss: 0.16815400123596191\n",
      "Epoch:139/200...... Loss: 0.20324254035949707\n",
      "Epoch:140/200...... Loss: 0.14553070068359375\n",
      "Epoch:141/200...... Loss: 0.12675917148590088\n",
      "Epoch:142/200...... Loss: 0.11273330450057983\n",
      "Epoch:143/200...... Loss: 0.0978962779045105\n",
      "Epoch:144/200...... Loss: 0.07762008905410767\n",
      "Epoch:145/200...... Loss: 0.07212358713150024\n",
      "Epoch:146/200...... Loss: 0.0656517744064331\n",
      "Epoch:147/200...... Loss: 0.06214994192123413\n",
      "Epoch:148/200...... Loss: 0.05246102809906006\n",
      "Epoch:149/200...... Loss: 0.04552865028381348\n",
      "Epoch:150/200...... Loss: 0.07255107164382935\n",
      "Epoch:151/200...... Loss: 0.09234261512756348\n",
      "Epoch:152/200...... Loss: 0.09053164720535278\n",
      "Epoch:153/200...... Loss: 0.10888415575027466\n",
      "Epoch:154/200...... Loss: 0.09974998235702515\n",
      "Epoch:155/200...... Loss: 0.08933669328689575\n",
      "Epoch:156/200...... Loss: 0.10754948854446411\n",
      "Epoch:157/200...... Loss: 0.07253515720367432\n",
      "Epoch:158/200...... Loss: 0.05960547924041748\n",
      "Epoch:159/200...... Loss: 0.08377337455749512\n",
      "Epoch:160/200...... Loss: 0.10286706686019897\n",
      "Epoch:161/200...... Loss: 0.11923491954803467\n",
      "Epoch:162/200...... Loss: 0.08364975452423096\n",
      "Epoch:163/200...... Loss: 0.09819340705871582\n",
      "Epoch:164/200...... Loss: 0.07598155736923218\n",
      "Epoch:165/200...... Loss: 0.09155619144439697\n",
      "Epoch:166/200...... Loss: 0.08027875423431396\n",
      "Epoch:167/200...... Loss: 0.06952106952667236\n",
      "Epoch:168/200...... Loss: 0.08496850728988647\n",
      "Epoch:169/200...... Loss: 0.0893210768699646\n",
      "Epoch:170/200...... Loss: 0.09354430437088013\n",
      "Epoch:171/200...... Loss: 0.08487629890441895\n",
      "Epoch:172/200...... Loss: 0.10534399747848511\n",
      "Epoch:173/200...... Loss: 0.10543382167816162\n",
      "Epoch:174/200...... Loss: 0.07728743553161621\n",
      "Epoch:175/200...... Loss: 0.09291613101959229\n",
      "Epoch:176/200...... Loss: 0.08420354127883911\n",
      "Epoch:177/200...... Loss: 0.09262114763259888\n",
      "Epoch:178/200...... Loss: 0.059342265129089355\n",
      "Epoch:179/200...... Loss: 0.07095873355865479\n",
      "Epoch:180/200...... Loss: 0.08709776401519775\n",
      "Epoch:181/200...... Loss: 0.09600001573562622\n",
      "Epoch:182/200...... Loss: 0.10357153415679932\n"
     ]
    },
    {
     "name": "stdout",
     "output_type": "stream",
     "text": [
      "Epoch:183/200...... Loss: 0.11216872930526733\n",
      "Epoch:184/200...... Loss: 0.14773499965667725\n",
      "Epoch:185/200...... Loss: 0.12258285284042358\n",
      "Epoch:186/200...... Loss: 0.12968140840530396\n",
      "Epoch:187/200...... Loss: 0.16975510120391846\n",
      "Epoch:188/200...... Loss: 0.22018373012542725\n",
      "Epoch:189/200...... Loss: 0.17626017332077026\n",
      "Epoch:190/200...... Loss: 0.12877249717712402\n",
      "Epoch:191/200...... Loss: 0.07437199354171753\n",
      "Epoch:192/200...... Loss: 0.07588285207748413\n",
      "Epoch:193/200...... Loss: 0.07712048292160034\n",
      "Epoch:194/200...... Loss: 0.0738099217414856\n",
      "Epoch:195/200...... Loss: 0.07907843589782715\n",
      "Epoch:196/200...... Loss: 0.09100693464279175\n",
      "Epoch:197/200...... Loss: 0.08248716592788696\n",
      "Epoch:198/200...... Loss: 0.08509141206741333\n",
      "Epoch:199/200...... Loss: 0.10899442434310913\n",
      "Epoch:200/200...... Loss: 0.09417867660522461\n"
     ]
    }
   ],
   "source": [
    "save_file='./image_segmentation3/seg'\n",
    "num_epochs=200\n",
    "batch_size=64\n",
    "with tf.Session(graph=Graph) as sess:\n",
    "    sess.run(init_op)\n",
    "    n_batches=5135//batch_size\n",
    "    iter=0\n",
    "    coord=tf.train.Coordinator()\n",
    "    threads=tf.train.start_queue_runners(coord=coord)\n",
    "    for i in range(num_epochs):\n",
    "        for _ in range(n_batches):\n",
    "            iter+=1\n",
    "            img,lab=sess.run([images,masks])\n",
    "            lab=input_scaler(lab)\n",
    "            img=input_scaler(img)\n",
    "            img=img.astype(np.float32)\n",
    "            sess.run(train_op,feed_dict={Input:img,mask:lab})\n",
    "            if iter%10==0:\n",
    "                summary_val=loss_summ.eval(feed_dict={Input:img,mask:lab})\n",
    "                file_writer.add_summary(summary_val,iter)\n",
    "        current_loss=sess.run(dice_loss,feed_dict={Input:img,mask:lab})\n",
    "        print('Epoch:{}/{}...... Loss: {}'.format(i+1,num_epochs,current_loss))\n",
    "    \n",
    "    Saver=tf.train.Saver()\n",
    "    Saver.save(sess,save_file)\n",
    "    coord.request_stop()\n",
    "    coord.join(threads)        "
   ]
  },
  {
   "cell_type": "markdown",
   "metadata": {},
   "source": [
    "<img src=\"Capture1.png\">"
   ]
  },
  {
   "cell_type": "markdown",
   "metadata": {},
   "source": [
    "Above picture shows the change of loss during training\n",
    "\n",
    "\n",
    "The model performance is evaluated through Intersection over union score, which is defined Intersection of two sets divided by the union of two sets, in our case, the predicted mask and groud truth mask repsectively. "
   ]
  },
  {
   "cell_type": "markdown",
   "metadata": {},
   "source": [
    "### Examples of predicted mask"
   ]
  },
  {
   "cell_type": "code",
   "execution_count": 97,
   "metadata": {},
   "outputs": [
    {
     "name": "stdout",
     "output_type": "stream",
     "text": [
      "INFO:tensorflow:Restoring parameters from ./image_segmentation3/seg\n"
     ]
    },
    {
     "data": {
      "image/png": "[encoded data removed]",
      "text/plain": [
       "<matplotlib.figure.Figure at 0x228796c82e8>"
      ]
     },
     "metadata": {},
     "output_type": "display_data"
    }
   ],
   "source": [
    "from PIL import Image\n",
    "img=Image.open(train_images[0])\n",
    "img=img.resize((128,128),resample=Image.BICUBIC)\n",
    "img=np.asarray(img)\n",
    "img=input_scaler(img)\n",
    "img=np.expand_dims(img,axis=0)\n",
    "loaded_graph=tf.Graph()\n",
    "with tf.Session(graph=loaded_graph) as sess:\n",
    "    loader=tf.train.import_meta_graph('./image_segmentation3/seg.meta')## Load the graph for the trained model\n",
    "    loader.restore(sess,tf.train.latest_checkpoint('./image_segmentation3/'))## Restore the trained weights\n",
    "    X=loaded_graph.get_tensor_by_name('Placeholder:0')\n",
    "    logits=loaded_graph.get_tensor_by_name('final_layer/Sigmoid:0')\n",
    "    result=sess.run(logits,feed_dict={X:img})\n",
    "#Check the predicted mask for one training image\n",
    "infered_mask=result[0,:,:,0]\n",
    "mask_1=infered_mask\n",
    "mask=Image.open(train_mask[0])\n",
    "mask=mask.resize((128,128),resample=Image.BICUBIC)\n",
    "plt.subplot(1,2,1)\n",
    "plt.imshow(np.asarray(mask),cmap='gray')\n",
    "plt.subplot(1,2,2)\n",
    "plt.imshow(mask_1>0.5,cmap='gray')  \n",
    "plt.show()"
   ]
  },
  {
   "cell_type": "code",
   "execution_count": 98,
   "metadata": {},
   "outputs": [
    {
     "name": "stdout",
     "output_type": "stream",
     "text": [
      "INFO:tensorflow:Restoring parameters from ./image_segmentation3/seg\n"
     ]
    },
    {
     "data": {
      "image/png": "[encoded data removed]",
      "text/plain": [
       "<matplotlib.figure.Figure at 0x22775991518>"
      ]
     },
     "metadata": {},
     "output_type": "display_data"
    }
   ],
   "source": [
    "img=Image.open(test_images[0])\n",
    "img=img.resize((128,128),resample=Image.BICUBIC)\n",
    "img=np.asarray(img)\n",
    "img=input_scaler(img)\n",
    "img=np.expand_dims(img,axis=0)\n",
    "loaded_graph=tf.Graph()\n",
    "with tf.Session(graph=loaded_graph) as sess:\n",
    "    loader=tf.train.import_meta_graph('./image_segmentation3/seg.meta')## Load the graph for the trained model\n",
    "    loader.restore(sess,tf.train.latest_checkpoint('./image_segmentation3/'))## Restore the trained weights\n",
    "    X=loaded_graph.get_tensor_by_name('Placeholder:0')\n",
    "    logits=loaded_graph.get_tensor_by_name('final_layer/Sigmoid:0')\n",
    "    result=sess.run(logits,feed_dict={X:img})\n",
    "#Check the predicted mask for one test image\n",
    "infered_mask=result[0,:,:,0]\n",
    "mask_1=infered_mask\n",
    "mask=Image.open(test_mask[0])\n",
    "mask=mask.resize((128,128),resample=Image.BICUBIC)\n",
    "plt.subplot(1,2,1)\n",
    "plt.imshow(np.asarray(mask),cmap='gray')\n",
    "plt.subplot(1,2,2)\n",
    "plt.imshow(mask_1>0.5,cmap='gray')  \n",
    "plt.show()"
   ]
  },
  {
   "cell_type": "markdown",
   "metadata": {},
   "source": [
    "According to above produced masks, it seems above model is capable of producing a coarse mask. "
   ]
  },
  {
   "cell_type": "markdown",
   "metadata": {
    "collapsed": true
   },
   "source": [
    "### Mean IOU score on test and train images"
   ]
  },
  {
   "cell_type": "code",
   "execution_count": 73,
   "metadata": {
    "collapsed": true
   },
   "outputs": [],
   "source": [
    "def load_and_rescale(image,mask):\n",
    "    img=Image.open(image)\n",
    "    lab=Image.open(mask)\n",
    "    img=img.resize((128,128),resample=Image.BICUBIC)\n",
    "    lab=lab.resize((128,128),resample=Image.BICUBIC)\n",
    "    img=np.asarray(img)\n",
    "    lab=np.asarray(lab)\n",
    "    img=input_scaler(img)\n",
    "    lab=input_scaler(lab)\n",
    "    img=np.expand_dims(img,axis=0)\n",
    "    lab=np.expand_dims(lab,axis=0)\n",
    "    lab=np.expand_dims(lab,axis=3)\n",
    "    lab=lab.astype(np.float32)\n",
    "    return img,lab\n",
    "\n",
    "def IOU(y_pred, y_true):\n",
    "    \"\"\"\n",
    "    Returns a IOU score\n",
    "    \"\"\"\n",
    "    H, W, _ = y_pred.shape[1:]\n",
    "    pred_flat = np.reshape(y_pred, [-1, H * W])\n",
    "    true_flat = np.reshape(y_true, [-1, H * W])\n",
    "    intersection = 2 * np.sum(pred_flat * true_flat, axis=1) + 1e-7\n",
    "    denominator = np.sum(pred_flat, axis=1) + np.sum(true_flat, axis=1) + 1e-7\n",
    "    return np.mean(intersection / denominator)\n"
   ]
  },
  {
   "cell_type": "code",
   "execution_count": 100,
   "metadata": {},
   "outputs": [
    {
     "name": "stdout",
     "output_type": "stream",
     "text": [
      "INFO:tensorflow:Restoring parameters from ./image_segmentation3/seg\n",
      "Mean IOU Score for train images: 0.9124739698177093\n"
     ]
    }
   ],
   "source": [
    "from PIL import Image\n",
    "import tensorlayer as tl\n",
    "tf.reset_default_graph()\n",
    "loaded_graph=tf.Graph()\n",
    "dice=[]\n",
    "with tf.Session(graph=loaded_graph) as sess:\n",
    "    loader=tf.train.import_meta_graph('./image_segmentation3/seg.meta')## Load the graph for the trained model\n",
    "    loader.restore(sess,tf.train.latest_checkpoint('./image_segmentation3/'))## Restore the trained weights\n",
    "    X=loaded_graph.get_tensor_by_name('Placeholder:0')\n",
    "    logits=loaded_graph.get_tensor_by_name('final_layer/Sigmoid:0')\n",
    "    for i,j in zip(train_images,train_mask):\n",
    "        img,lab=load_and_rescale(i,j)\n",
    "        result=sess.run(logits,feed_dict={X:img})\n",
    "        dice_co=IOU(result>0.5, lab)\n",
    "        dice.append(dice_co)\n",
    "        \n",
    "print(\"Mean IOU Score for train images: {}\".format(np.mean(dice)))"
   ]
  },
  {
   "cell_type": "code",
   "execution_count": 99,
   "metadata": {},
   "outputs": [
    {
     "name": "stdout",
     "output_type": "stream",
     "text": [
      "INFO:tensorflow:Restoring parameters from ./image_segmentation3/seg\n",
      "Mean IOU Score for test images: 0.600354976171646\n"
     ]
    }
   ],
   "source": [
    "from PIL import Image\n",
    "import tensorlayer as tl\n",
    "tf.reset_default_graph()\n",
    "loaded_graph=tf.Graph()\n",
    "dice=[]\n",
    "with tf.Session(graph=loaded_graph) as sess:\n",
    "    loader=tf.train.import_meta_graph('./image_segmentation3/seg.meta')## Load the graph for the trained model\n",
    "    loader.restore(sess,tf.train.latest_checkpoint('./image_segmentation3/'))## Restore the trained weights\n",
    "    X=loaded_graph.get_tensor_by_name('Placeholder:0')\n",
    "    logits=loaded_graph.get_tensor_by_name('final_layer/Sigmoid:0')\n",
    "    for i,j in zip(test_images,test_mask):\n",
    "        img,lab=load_and_rescale(i,j)\n",
    "        result=sess.run(logits,feed_dict={X:img})\n",
    "        dice_co=IOU(result>0.5, lab)\n",
    "        dice.append(dice_co)\n",
    "        \n",
    "print(\"Mean IOU Score for test images: {}\".format(np.mean(dice)))"
   ]
  },
  {
   "cell_type": "markdown",
   "metadata": {
    "collapsed": true
   },
   "source": [
    "From above mean scores, the model proposed seems to be overfitting the training dataset, and to further improve the performance we may need to generate some more training images with data augmentation or reduce model complexity a bit. Another unique aspect of this particular problem is lots of current training images correspond to a blank groud truth, which makes our data highly imbalanced. Thus a model with an additional classification head to detect whether a specific image should have a mask or not, might be worth of further experimentation."
   ]
  },
  {
   "cell_type": "code",
   "execution_count": null,
   "metadata": {
    "collapsed": true
   },
   "outputs": [],
   "source": []
  }
 ],
 "metadata": {
  "kernelspec": {
   "display_name": "Python 3",
   "language": "python",
   "name": "python3"
  },
  "language_info": {
   "codemirror_mode": {
    "name": "ipython",
    "version": 3
   },
   "file_extension": ".py",
   "mimetype": "text/x-python",
   "name": "python",
   "nbconvert_exporter": "python",
   "pygments_lexer": "ipython3",
   "version": "3.5.2"
  }
 },
 "nbformat": 4,
 "nbformat_minor": 2
}
